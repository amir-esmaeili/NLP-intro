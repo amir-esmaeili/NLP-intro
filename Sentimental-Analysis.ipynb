{
 "cells": [
  {
   "cell_type": "markdown",
   "metadata": {},
   "source": [
    "# Sentimental Analysis"
   ]
  },
  {
   "cell_type": "code",
   "execution_count": 1,
   "metadata": {},
   "outputs": [
    {
     "name": "stderr",
     "output_type": "stream",
     "text": [
      "[nltk_data] Downloading package punkt to /home/amiresm/nltk_data...\n",
      "[nltk_data]   Package punkt is already up-to-date!\n",
      "[nltk_data] Downloading package vader_lexicon to\n",
      "[nltk_data]     /home/amiresm/nltk_data...\n"
     ]
    },
    {
     "data": {
      "text/plain": [
       "True"
      ]
     },
     "execution_count": 1,
     "metadata": {},
     "output_type": "execute_result"
    }
   ],
   "source": [
    "from nltk.sentiment.vader import SentimentIntensityAnalyzer\n",
    "from nltk.tokenize import sent_tokenize\n",
    "import nltk\n",
    "\n",
    "nltk.download('punkt')\n",
    "nltk.download('vader_lexicon')"
   ]
  },
  {
   "cell_type": "code",
   "execution_count": 5,
   "metadata": {},
   "outputs": [],
   "source": [
    "text = \"\"\"\n",
    "How I wish, how I wish you were here.\n",
    "We're just two lost souls.\n",
    "Swimming in a fish bowl Year after year.\n",
    "Running over the same old ground, what have we found.\n",
    "\"\"\"\n",
    "sentence = sent_tokenize(text)"
   ]
  },
  {
   "cell_type": "code",
   "execution_count": 8,
   "metadata": {},
   "outputs": [
    {
     "name": "stdout",
     "output_type": "stream",
     "text": [
      "====================\n",
      "\n",
      "How I wish, how I wish you were here.\n",
      "{'neg': 0.0, 'neu': 0.481, 'pos': 0.519, 'compound': 0.6597}\n",
      "====================\n",
      "====================\n",
      "We're just two lost souls.\n",
      "{'neg': 0.365, 'neu': 0.635, 'pos': 0.0, 'compound': -0.3182}\n",
      "====================\n",
      "====================\n",
      "Swimming in a fish bowl Year after year.\n",
      "{'neg': 0.0, 'neu': 1.0, 'pos': 0.0, 'compound': 0.0}\n",
      "====================\n",
      "====================\n",
      "Running over the same old ground, what have we found.\n",
      "{'neg': 0.0, 'neu': 1.0, 'pos': 0.0, 'compound': 0.0}\n",
      "====================\n",
      "Overall =  0.34149999999999997\n"
     ]
    }
   ],
   "source": [
    "sentiment_analysis = SentimentIntensityAnalyzer()\n",
    "overall = 0\n",
    "for sent in sentence:\n",
    "    print(\"====================\")\n",
    "    print(sent)\n",
    "    ps = sentiment_analysis.polarity_scores(sent)\n",
    "    print(ps)\n",
    "    print(\"====================\")\n",
    "    overall += ps['compound']\n",
    "print(\"Overall = \", overall)"
   ]
  },
  {
   "cell_type": "code",
   "execution_count": null,
   "metadata": {},
   "outputs": [],
   "source": []
  }
 ],
 "metadata": {
  "kernelspec": {
   "display_name": "Python 3",
   "language": "python",
   "name": "python3"
  },
  "language_info": {
   "codemirror_mode": {
    "name": "ipython",
    "version": 3
   },
   "file_extension": ".py",
   "mimetype": "text/x-python",
   "name": "python",
   "nbconvert_exporter": "python",
   "pygments_lexer": "ipython3",
   "version": "3.8.2"
  }
 },
 "nbformat": 4,
 "nbformat_minor": 4
}
